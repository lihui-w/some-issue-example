{
 "cells": [
  {
   "cell_type": "code",
   "execution_count": 2,
   "metadata": {},
   "outputs": [],
   "source": [
    "import pytorch_lightning as pl\n",
    "import numpy as np\n",
    "import torch\n",
    "from torch import nn, functional as F, optim\n",
    "from torch.utils.data import DataLoader"
   ]
  },
  {
   "cell_type": "code",
   "execution_count": 16,
   "metadata": {},
   "outputs": [],
   "source": [
    "class MyDataset(pl.LightningDataModule): \n",
    "    def __init__(self, ): \n",
    "        self.train_set = [np.random.random((10)), np.random.random((10))]*100\n",
    "        self.val_set = [np.random.random((10)), np.random.random((10))]*100\n",
    "        \n",
    "    def train_dataloader(self): \n",
    "        return DataLoader(self.train_set, batch_size=16, shuffle=True)\n",
    "    def val_dataloader(self): \n",
    "        return DataLoader(self.train_set, batch_size=16, shuffle=False)"
   ]
  },
  {
   "cell_type": "code",
   "execution_count": 17,
   "metadata": {},
   "outputs": [
    {
     "name": "stdout",
     "output_type": "stream",
     "text": [
      "13\n"
     ]
    }
   ],
   "source": [
    "data = MyDataset()\n",
    "print(len(data.train_dataloader()))"
   ]
  },
  {
   "cell_type": "code",
   "execution_count": 26,
   "metadata": {},
   "outputs": [],
   "source": [
    "class Model(pl.LightningModule):\n",
    "\tdef __init__(self):\n",
    "\t\t\tsuper(Model, self).__init__()\n",
    "\t\t\tself.net = nn.Linear(10,10)\n",
    "\t\t\tself.loss = torch.nn.MSELoss(reduction='mean')\n",
    "\t\t\tself.L = []\n",
    "   \n",
    "\tdef configure_optimizers(self):\n",
    "\t\topt = optim.Adam(self.parameters(),lr=3e-5)\n",
    "   \n",
    "\tdef training_step(self, batch, batch_idx):\n",
    "\t\tx = batch[0].to(torch.float32)\n",
    "\t\ty = batch[1].to(torch.float32)\n",
    "\t\ty_hat = self.net(x)\n",
    "\t\tloss = self.loss(y_hat,y)\n",
    "\t\tself.L.append(loss) \n",
    "\t\treturn {'loss':loss}\n",
    "\n",
    "\tdef training_epoch_end(self,outputs):\n",
    "\t\tprint('self.L',self.L,'\\n')\n",
    "\t\tprint('outputs',outputs,'\\n') # This may be half of self.L if  accumulate_grad_batches=2\n",
    "  \n",
    "\tdef validation_step(self, batch, batch_idx):\n",
    "\t\tx = batch[0].to(torch.float32)\n",
    "\t\ty = batch[1].to(torch.float32)\n",
    "\t\ty_hat = self.net(x)\n",
    "\t\tloss = self.loss(y_hat,y)\n",
    "\t\treturn {'loss':loss}\n",
    "\n",
    "\tdef validation_epoch_end(self,outputs):\n",
    "\t\tpass\n",
    "\t\t# print(outputs)\n",
    "\n"
   ]
  },
  {
   "cell_type": "code",
   "execution_count": 27,
   "metadata": {},
   "outputs": [
    {
     "name": "stderr",
     "output_type": "stream",
     "text": [
      "GPU available: True, used: True\n",
      "TPU available: False, using: 0 TPU cores\n",
      "IPU available: False, using: 0 IPUs\n",
      "LOCAL_RANK: 0 - CUDA_VISIBLE_DEVICES: [0,1]\n",
      "/home/dell/anaconda3/envs/lihui/lib/python3.9/site-packages/pytorch_lightning/trainer/optimizers.py:37: UserWarning: `LightningModule.configure_optimizers` returned `None`, this fit will run with no optimizer\n",
      "  rank_zero_warn(\n",
      "\n",
      "  | Name | Type    | Params\n",
      "---------------------------------\n",
      "0 | net  | Linear  | 110   \n",
      "1 | loss | MSELoss | 0     \n",
      "---------------------------------\n",
      "110       Trainable params\n",
      "0         Non-trainable params\n",
      "110       Total params\n",
      "0.000     Total estimated model params size (MB)\n"
     ]
    },
    {
     "name": "stdout",
     "output_type": "stream",
     "text": [
      "Epoch 0: 100%|██████████| 26/26 [00:00<00:00, 438.44it/s, loss=0.584, v_num=41]self.L [tensor(0.4708, device='cuda:0', grad_fn=<MseLossBackward>), tensor(0.7780, device='cuda:0', grad_fn=<MseLossBackward>), tensor(0.4708, device='cuda:0', grad_fn=<MseLossBackward>), tensor(0.3433, device='cuda:0', grad_fn=<MseLossBackward>), tensor(0.4708, device='cuda:0', grad_fn=<MseLossBackward>), tensor(0.7780, device='cuda:0', grad_fn=<MseLossBackward>), tensor(0.7780, device='cuda:0', grad_fn=<MseLossBackward>), tensor(1.0007, device='cuda:0', grad_fn=<MseLossBackward>), tensor(1.0007, device='cuda:0', grad_fn=<MseLossBackward>), tensor(0.3433, device='cuda:0', grad_fn=<MseLossBackward>), tensor(0.4708, device='cuda:0', grad_fn=<MseLossBackward>), tensor(0.3433, device='cuda:0', grad_fn=<MseLossBackward>), tensor(0.3433, device='cuda:0', grad_fn=<MseLossBackward>)] \n",
      "\n",
      "outputs [{'loss': tensor(0.2354, device='cuda:0')}, {'loss': tensor(0.3890, device='cuda:0')}, {'loss': tensor(0.2354, device='cuda:0')}, {'loss': tensor(0.1716, device='cuda:0')}, {'loss': tensor(0.2354, device='cuda:0')}, {'loss': tensor(0.3890, device='cuda:0')}, {'loss': tensor(0.3890, device='cuda:0')}, {'loss': tensor(0.5004, device='cuda:0')}, {'loss': tensor(0.5004, device='cuda:0')}, {'loss': tensor(0.1716, device='cuda:0')}, {'loss': tensor(0.2354, device='cuda:0')}, {'loss': tensor(0.1716, device='cuda:0')}, {'loss': tensor(0.1716, device='cuda:0')}] \n",
      "\n",
      "Epoch 1: 100%|██████████| 26/26 [00:00<00:00, 457.57it/s, loss=0.615, v_num=41]self.L [tensor(0.4708, device='cuda:0', grad_fn=<MseLossBackward>), tensor(0.7780, device='cuda:0', grad_fn=<MseLossBackward>), tensor(0.4708, device='cuda:0', grad_fn=<MseLossBackward>), tensor(0.3433, device='cuda:0', grad_fn=<MseLossBackward>), tensor(0.4708, device='cuda:0', grad_fn=<MseLossBackward>), tensor(0.7780, device='cuda:0', grad_fn=<MseLossBackward>), tensor(0.7780, device='cuda:0', grad_fn=<MseLossBackward>), tensor(1.0007, device='cuda:0', grad_fn=<MseLossBackward>), tensor(1.0007, device='cuda:0', grad_fn=<MseLossBackward>), tensor(0.3433, device='cuda:0', grad_fn=<MseLossBackward>), tensor(0.4708, device='cuda:0', grad_fn=<MseLossBackward>), tensor(0.3433, device='cuda:0', grad_fn=<MseLossBackward>), tensor(0.3433, device='cuda:0', grad_fn=<MseLossBackward>), tensor(0.7780, device='cuda:0', grad_fn=<MseLossBackward>), tensor(0.4708, device='cuda:0', grad_fn=<MseLossBackward>), tensor(0.7780, device='cuda:0', grad_fn=<MseLossBackward>), tensor(1.0007, device='cuda:0', grad_fn=<MseLossBackward>), tensor(1.0007, device='cuda:0', grad_fn=<MseLossBackward>), tensor(0.4708, device='cuda:0', grad_fn=<MseLossBackward>), tensor(0.4708, device='cuda:0', grad_fn=<MseLossBackward>), tensor(0.7780, device='cuda:0', grad_fn=<MseLossBackward>), tensor(0.3433, device='cuda:0', grad_fn=<MseLossBackward>), tensor(0.7780, device='cuda:0', grad_fn=<MseLossBackward>), tensor(0.3433, device='cuda:0', grad_fn=<MseLossBackward>), tensor(0.3433, device='cuda:0', grad_fn=<MseLossBackward>), tensor(0.4708, device='cuda:0', grad_fn=<MseLossBackward>)] \n",
      "\n",
      "outputs [{'loss': tensor(0.3890, device='cuda:0')}, {'loss': tensor(0.2354, device='cuda:0')}, {'loss': tensor(0.3890, device='cuda:0')}, {'loss': tensor(0.5004, device='cuda:0')}, {'loss': tensor(0.5004, device='cuda:0')}, {'loss': tensor(0.2354, device='cuda:0')}, {'loss': tensor(0.2354, device='cuda:0')}, {'loss': tensor(0.3890, device='cuda:0')}, {'loss': tensor(0.1716, device='cuda:0')}, {'loss': tensor(0.3890, device='cuda:0')}, {'loss': tensor(0.1716, device='cuda:0')}, {'loss': tensor(0.1716, device='cuda:0')}, {'loss': tensor(0.2354, device='cuda:0')}] \n",
      "\n",
      "Epoch 2:  27%|██▋       | 7/26 [00:00<00:00, 300.42it/s, loss=0.589, v_num=41] "
     ]
    },
    {
     "name": "stderr",
     "output_type": "stream",
     "text": [
      "/home/dell/anaconda3/envs/lihui/lib/python3.9/site-packages/pytorch_lightning/trainer/data_loading.py:132: UserWarning: The dataloader, val_dataloader 0, does not have many workers which may be a bottleneck. Consider increasing the value of the `num_workers` argument` (try 40 which is the number of cpus on this machine) in the `DataLoader` init to improve performance.\n",
      "  rank_zero_warn(\n",
      "/home/dell/anaconda3/envs/lihui/lib/python3.9/site-packages/pytorch_lightning/trainer/data_loading.py:132: UserWarning: The dataloader, train_dataloader, does not have many workers which may be a bottleneck. Consider increasing the value of the `num_workers` argument` (try 40 which is the number of cpus on this machine) in the `DataLoader` init to improve performance.\n",
      "  rank_zero_warn(\n",
      "/home/dell/anaconda3/envs/lihui/lib/python3.9/site-packages/pytorch_lightning/trainer/data_loading.py:432: UserWarning: The number of training samples (13) is smaller than the logging interval Trainer(log_every_n_steps=50). Set a lower value for log_every_n_steps if you want to see logs for the training epoch.\n",
      "  rank_zero_warn(\n"
     ]
    },
    {
     "name": "stdout",
     "output_type": "stream",
     "text": [
      "Epoch 2: 100%|██████████| 26/26 [00:00<00:00, 452.02it/s, loss=0.506, v_num=41]self.L [tensor(0.4708, device='cuda:0', grad_fn=<MseLossBackward>), tensor(0.7780, device='cuda:0', grad_fn=<MseLossBackward>), tensor(0.4708, device='cuda:0', grad_fn=<MseLossBackward>), tensor(0.3433, device='cuda:0', grad_fn=<MseLossBackward>), tensor(0.4708, device='cuda:0', grad_fn=<MseLossBackward>), tensor(0.7780, device='cuda:0', grad_fn=<MseLossBackward>), tensor(0.7780, device='cuda:0', grad_fn=<MseLossBackward>), tensor(1.0007, device='cuda:0', grad_fn=<MseLossBackward>), tensor(1.0007, device='cuda:0', grad_fn=<MseLossBackward>), tensor(0.3433, device='cuda:0', grad_fn=<MseLossBackward>), tensor(0.4708, device='cuda:0', grad_fn=<MseLossBackward>), tensor(0.3433, device='cuda:0', grad_fn=<MseLossBackward>), tensor(0.3433, device='cuda:0', grad_fn=<MseLossBackward>), tensor(0.7780, device='cuda:0', grad_fn=<MseLossBackward>), tensor(0.4708, device='cuda:0', grad_fn=<MseLossBackward>), tensor(0.7780, device='cuda:0', grad_fn=<MseLossBackward>), tensor(1.0007, device='cuda:0', grad_fn=<MseLossBackward>), tensor(1.0007, device='cuda:0', grad_fn=<MseLossBackward>), tensor(0.4708, device='cuda:0', grad_fn=<MseLossBackward>), tensor(0.4708, device='cuda:0', grad_fn=<MseLossBackward>), tensor(0.7780, device='cuda:0', grad_fn=<MseLossBackward>), tensor(0.3433, device='cuda:0', grad_fn=<MseLossBackward>), tensor(0.7780, device='cuda:0', grad_fn=<MseLossBackward>), tensor(0.3433, device='cuda:0', grad_fn=<MseLossBackward>), tensor(0.3433, device='cuda:0', grad_fn=<MseLossBackward>), tensor(0.4708, device='cuda:0', grad_fn=<MseLossBackward>), tensor(0.7780, device='cuda:0', grad_fn=<MseLossBackward>), tensor(0.3433, device='cuda:0', grad_fn=<MseLossBackward>), tensor(0.4708, device='cuda:0', grad_fn=<MseLossBackward>), tensor(0.3433, device='cuda:0', grad_fn=<MseLossBackward>), tensor(1.0007, device='cuda:0', grad_fn=<MseLossBackward>), tensor(0.4708, device='cuda:0', grad_fn=<MseLossBackward>), tensor(0.3433, device='cuda:0', grad_fn=<MseLossBackward>), tensor(0.3433, device='cuda:0', grad_fn=<MseLossBackward>), tensor(0.3433, device='cuda:0', grad_fn=<MseLossBackward>), tensor(1.0007, device='cuda:0', grad_fn=<MseLossBackward>), tensor(0.3433, device='cuda:0', grad_fn=<MseLossBackward>), tensor(0.4708, device='cuda:0', grad_fn=<MseLossBackward>), tensor(0.3433, device='cuda:0', grad_fn=<MseLossBackward>)] \n",
      "\n",
      "outputs [{'loss': tensor(0.3890, device='cuda:0')}, {'loss': tensor(0.1716, device='cuda:0')}, {'loss': tensor(0.2354, device='cuda:0')}, {'loss': tensor(0.1716, device='cuda:0')}, {'loss': tensor(0.5004, device='cuda:0')}, {'loss': tensor(0.2354, device='cuda:0')}, {'loss': tensor(0.1716, device='cuda:0')}, {'loss': tensor(0.1716, device='cuda:0')}, {'loss': tensor(0.1716, device='cuda:0')}, {'loss': tensor(0.5004, device='cuda:0')}, {'loss': tensor(0.1716, device='cuda:0')}, {'loss': tensor(0.2354, device='cuda:0')}, {'loss': tensor(0.1716, device='cuda:0')}] \n",
      "\n",
      "Epoch 2: 100%|██████████| 26/26 [00:00<00:00, 296.78it/s, loss=0.506, v_num=41]\n"
     ]
    }
   ],
   "source": [
    "trainer = pl.Trainer(\n",
    "\t\tmax_epochs=3,\n",
    "\t\tmin_epochs=1,\n",
    "\t\tgpus=[0],\n",
    "\t\t# precision=16,\n",
    "\t\taccumulate_grad_batches=2, \n",
    "\t)\n",
    "model = Model()\n",
    "data = MyDataset()\n",
    "trainer.fit(model,data)"
   ]
  },
  {
   "cell_type": "code",
   "execution_count": null,
   "metadata": {},
   "outputs": [],
   "source": []
  }
 ],
 "metadata": {
  "interpreter": {
   "hash": "3fe6be51d3e4fe5c22456a5fd3046af2267c4c87c67ed56e3a6725774dca13fe"
  },
  "kernelspec": {
   "display_name": "Python 3.9.5 ('lihui')",
   "language": "python",
   "name": "python3"
  },
  "language_info": {
   "codemirror_mode": {
    "name": "ipython",
    "version": 3
   },
   "file_extension": ".py",
   "mimetype": "text/x-python",
   "name": "python",
   "nbconvert_exporter": "python",
   "pygments_lexer": "ipython3",
   "version": "3.9.5"
  },
  "orig_nbformat": 4
 },
 "nbformat": 4,
 "nbformat_minor": 2
}
